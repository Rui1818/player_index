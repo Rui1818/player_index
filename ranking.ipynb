{
 "cells": [
  {
   "cell_type": "code",
   "execution_count": 4,
   "metadata": {},
   "outputs": [],
   "source": [
    "import pandas as pd\n",
    "import numpy as np\n",
    "import json"
   ]
  },
  {
   "cell_type": "code",
   "execution_count": 5,
   "metadata": {},
   "outputs": [],
   "source": [
    "pd.set_option('display.max_columns', 5000)"
   ]
  },
  {
   "cell_type": "code",
   "execution_count": 1,
   "metadata": {},
   "outputs": [],
   "source": [
    "def comparison(playerid, matchId, file, cols):\n",
    "    total=pd.read_csv(file)\n",
    "    m=total[cols].mean()\n",
    "    print('The mean:')\n",
    "    print(m)\n",
    "    total=total[total['playerId']==playerid]\n",
    "    total=total[total['matchId']==matchId]\n",
    "    path='data/events/'+str(matchId)+'.json'\n",
    "    with open(path, 'r', encoding='utf-8') as f:\n",
    "        rd = f.read()\n",
    "    rd=rd[28:-2]\n",
    "    obj = json.loads(rd)\n",
    "    dfw = pd.json_normalize(obj)\n",
    "    dfw=dfw[dfw['player.id']==playerid]\n",
    "    print('player:', dfw['player.name'].iloc[0])\n",
    "    print(total[cols])\n",
    "    "
   ]
  },
  {
   "cell_type": "code",
   "execution_count": 2,
   "metadata": {},
   "outputs": [],
   "source": [
    "def get_player(playerid, matchId):\n",
    "    path='data/events/'+str(matchId)+'.json'\n",
    "    with open(path, 'r', encoding='utf-8') as f:\n",
    "        rd = f.read()\n",
    "    rd=rd[28:-2]\n",
    "    obj = json.loads(rd)\n",
    "    dfw = pd.json_normalize(obj)\n",
    "    dfw=dfw[dfw['player.id']==playerid]\n",
    "    return dfw['player.name'].iloc[0]"
   ]
  },
  {
   "cell_type": "code",
   "execution_count": 33,
   "metadata": {},
   "outputs": [],
   "source": [
    "def bestplayers(df):\n",
    "    for i in range (55):\n",
    "        id=df['playerId'].iloc[i]\n",
    "        matchid=df['matchId'].iloc[i]\n",
    "        player=get_player(id,matchid)\n",
    "        print('matchid:',matchid)\n",
    "        print('playerid:', id)\n",
    "        print(player)"
   ]
  },
  {
   "cell_type": "code",
   "execution_count": 7,
   "metadata": {},
   "outputs": [],
   "source": [
    "loss_list= [\n",
    "    'total.losses',\n",
    "    'total.ownHalfLosses',\n",
    "    'total.dangerousOwnHalfLosses'\n",
    "]"
   ]
  },
  {
   "cell_type": "code",
   "execution_count": 8,
   "metadata": {},
   "outputs": [],
   "source": [
    "def preprocessdf(mean, std, position):\n",
    "    meandf=pd.read_csv(mean)\n",
    "    stddf=pd.read_csv(std)\n",
    "    pdf=pd.read_csv(position)\n",
    "    meandf=meandf[meandf.columns[1:]]\n",
    "    stddf=stddf[stddf.columns[1:]]\n",
    "    '''\n",
    "    pdf=pdf[pdf.columns[1:]]\n",
    "    '''\n",
    "    keep_columns=meandf.columns\n",
    "    calc_col = [col for col in pdf.columns if col.startswith('total.') and col != 'total.minutesOnField']\n",
    "    calc_filtered = [col for col in calc_col if col not in keep_columns]\n",
    "    cpdf=pdf.drop(columns=calc_filtered)\n",
    "    for w in loss_list:\n",
    "        if(w in keep_columns):\n",
    "            cpdf[w]*=-1\n",
    "    return cpdf, meandf, stddf"
   ]
  },
  {
   "cell_type": "code",
   "execution_count": 9,
   "metadata": {},
   "outputs": [],
   "source": [
    "def resultcalculation(calc,mean,std, weight):\n",
    "    t0=calc.copy()\n",
    "    t1=calc.copy()\n",
    "    t2=calc.copy()\n",
    "    t3=calc.copy()\n",
    "    \n",
    "    t0[mean.columns]-=mean.loc[0]\n",
    "    t1[mean.columns]-=mean.loc[1]\n",
    "    \n",
    "    t0[mean.columns]/=std.loc[0]\n",
    "    t1[mean.columns]/=std.loc[1]\n",
    "    '''\n",
    "    t2[mean.columns]-=mean.loc[2]\n",
    "    t2[mean.columns]/=std.loc[2]\n",
    "    t3[mean.columns]-=mean.loc[3]\n",
    "    t3[mean.columns]/=std.loc[3]\n",
    "    '''\n",
    "    vec=np.array(weight)\n",
    "    calc_col = [col for col in calc.columns if col.startswith('total.') and col != 'total.minutesOnField']\n",
    "    statsarray0=t0[calc_col].to_numpy()\n",
    "    statsarray1=t1[calc_col].to_numpy()\n",
    "    statsarray2=t2[calc_col].to_numpy()\n",
    "    statsarray3=t3[calc_col].to_numpy()\n",
    "    res0=np.dot(statsarray0, vec)\n",
    "    res1=np.dot(statsarray1, vec)\n",
    "    res2=np.dot(statsarray2, vec)\n",
    "    res3=np.dot(statsarray3, vec)\n",
    "    return res0, res1, res2"
   ]
  },
  {
   "cell_type": "code",
   "execution_count": 10,
   "metadata": {},
   "outputs": [],
   "source": [
    "meanpath='mean_std/mean_wi2v2clustering.csv'\n",
    "stdpath='mean_std/std_wi2v2clustering.csv'\n",
    "playerpath='gamesfromplayers/vargas_games.csv'"
   ]
  },
  {
   "cell_type": "code",
   "execution_count": null,
   "metadata": {},
   "outputs": [],
   "source": [
    "pd.read_csv(meanpath)"
   ]
  },
  {
   "cell_type": "code",
   "execution_count": 12,
   "metadata": {},
   "outputs": [],
   "source": [
    "calcdf, meandf, stddf=preprocessdf(meanpath, stdpath, playerpath)"
   ]
  },
  {
   "cell_type": "code",
   "execution_count": null,
   "metadata": {},
   "outputs": [],
   "source": [
    "calcdf"
   ]
  },
  {
   "cell_type": "code",
   "execution_count": 14,
   "metadata": {},
   "outputs": [],
   "source": [
    "#weight vector for each player profile\n",
    "iv_def_weights=[1,2,1,4,1,4,1,4,2,1,4,1,2,4,1,2,4,1,0,1,1]\n",
    "iv_hyb_weights=[1,2,1,4,1,4,1,4,2,1,4,1,4,1,1,2,4,1,0,1,2]\n",
    "iv_off_weights=[1,4,1,4,1,1,1,4,4,1,4,1,4,1,2,2,4,2,2,1,2]\n",
    "wi_pla_weights=[1,1,4,1,1,4,2,1,4,2,4,4,2,4,4]\n",
    "wi_dri_weights=[1,1,4,1,4,2,4,1,4,4,4,2,4,4,2]\n",
    "wi_run_weights=[1,1,4,1,2,2,4,1,4,4,4,1,4,4,4]\n",
    "st_run_weights=[1,0,2,2,4,2,1,4,4,4,4,1,4]\n",
    "st_goa_weights=[1,0,2,2,4,2,4,4,4,2,2,1,4]\n",
    "st_box_weights=[2,0,2,2,2,1,1,4,2,2,4,1,4]\n",
    "st_fa9_weights=[2,0,2,2,4,2,4,4,4,2,2,2,4]\n",
    "mi_dpl_weights=[1,4,0,1,4,4,1,4,1,2,1,1,2,4,4,1,1,2,4,0,2,4,0,1]\n",
    "mi_opl_weights=[0,0,4,0,0,4,1,4,0,0,4,0,0,0,2,1,1,0,0,4,4,2,2,0]\n",
    "mi_def_weights=[1,4,0,1,2,2,1,4,1,2,1,1,1,4,4,2,4,2,4,0,2,4,0,2]\n",
    "mi_off_weights=[0,0,4,1,4,1,1,4,0,0,1,0,0,2,2,2,4,0,0,2,4,2,2,4]\n",
    "lb_def_weights=[1,2,1,4,1,4,1,4,1,1,1,2,4,1,4,1,2,4,1,1,4,1,0,0,1,1]\n",
    "lb_off_weights=[1,4,1,2,1,2,2,4,2,4,1,4,2,1,2,1,2,2,4,2,2,1,4,4,1,1]\n",
    "lb_run_weights=[1,4,1,4,1,4,1,2,1,4,1,4,2,1,4,1,2,2,4,1,2,1,4,4,1,2]\n",
    "unitlist=[1]*len(mi_def_weights)"
   ]
  },
  {
   "cell_type": "code",
   "execution_count": 45,
   "metadata": {},
   "outputs": [
    {
     "data": {
      "text/html": [
       "<div>\n",
       "<style scoped>\n",
       "    .dataframe tbody tr th:only-of-type {\n",
       "        vertical-align: middle;\n",
       "    }\n",
       "\n",
       "    .dataframe tbody tr th {\n",
       "        vertical-align: top;\n",
       "    }\n",
       "\n",
       "    .dataframe thead th {\n",
       "        text-align: right;\n",
       "    }\n",
       "</style>\n",
       "<table border=\"1\" class=\"dataframe\">\n",
       "  <thead>\n",
       "    <tr style=\"text-align: right;\">\n",
       "      <th></th>\n",
       "      <th>total.duels</th>\n",
       "      <th>total.duelsWon</th>\n",
       "      <th>total.defensiveDuels</th>\n",
       "      <th>total.defensiveDuelsWon</th>\n",
       "      <th>total.aerialDuels</th>\n",
       "      <th>total.aerialDuelsWon</th>\n",
       "      <th>total.passes</th>\n",
       "      <th>total.successfulPasses</th>\n",
       "      <th>total.crosses</th>\n",
       "      <th>total.successfulCrosses</th>\n",
       "      <th>total.forwardPasses</th>\n",
       "      <th>total.successfulForwardPasses</th>\n",
       "      <th>total.interceptions</th>\n",
       "      <th>total.defensiveActions</th>\n",
       "      <th>total.successfulDefensiveAction</th>\n",
       "      <th>total.looseBallDuels</th>\n",
       "      <th>total.looseBallDuelsWon</th>\n",
       "      <th>total.recoveries</th>\n",
       "      <th>total.opponentHalfRecoveries</th>\n",
       "      <th>total.losses</th>\n",
       "      <th>total.ownHalfLosses</th>\n",
       "      <th>total.dangerousOwnHalfLosses</th>\n",
       "      <th>total.xgAssist</th>\n",
       "      <th>total.progressiveRun</th>\n",
       "      <th>total.slidingTackles</th>\n",
       "      <th>total.successfulSlidingTackles</th>\n",
       "    </tr>\n",
       "  </thead>\n",
       "  <tbody>\n",
       "  </tbody>\n",
       "</table>\n",
       "</div>"
      ],
      "text/plain": [
       "Empty DataFrame\n",
       "Columns: [total.duels, total.duelsWon, total.defensiveDuels, total.defensiveDuelsWon, total.aerialDuels, total.aerialDuelsWon, total.passes, total.successfulPasses, total.crosses, total.successfulCrosses, total.forwardPasses, total.successfulForwardPasses, total.interceptions, total.defensiveActions, total.successfulDefensiveAction, total.looseBallDuels, total.looseBallDuelsWon, total.recoveries, total.opponentHalfRecoveries, total.losses, total.ownHalfLosses, total.dangerousOwnHalfLosses, total.xgAssist, total.progressiveRun, total.slidingTackles, total.successfulSlidingTackles]\n",
       "Index: []"
      ]
     },
     "execution_count": 45,
     "metadata": {},
     "output_type": "execute_result"
    }
   ],
   "source": [
    "featuredf=pd.DataFrame(columns=meandf.columns)\n",
    "'''\n",
    "featuredf.loc[0]=mi_opl_weights\n",
    "featuredf.loc[1]=iv_hyb_weights\n",
    "featuredf.loc[2]=iv_off_weights\n",
    "'''\n",
    "featuredf"
   ]
  },
  {
   "cell_type": "code",
   "execution_count": 17,
   "metadata": {},
   "outputs": [],
   "source": [
    "r0,r1,r2=resultcalculation(calcdf,meandf,stddf, wi_pla_weights)"
   ]
  },
  {
   "cell_type": "code",
   "execution_count": 18,
   "metadata": {},
   "outputs": [],
   "source": [
    "#calcdf['dribbler']=r2\n",
    "\n",
    "calcdf['playmaker']=r0\n",
    "#calcdf['Res2def']=r2"
   ]
  },
  {
   "cell_type": "code",
   "execution_count": 93,
   "metadata": {},
   "outputs": [],
   "source": [
    "calcdf.to_csv('rating_amdouni.csv' , index=False)"
   ]
  },
  {
   "cell_type": "code",
   "execution_count": 257,
   "metadata": {},
   "outputs": [],
   "source": [
    "ranking=calcdf.sort_values(by='Res1def', ascending=False)"
   ]
  },
  {
   "cell_type": "code",
   "execution_count": 57,
   "metadata": {},
   "outputs": [],
   "source": [
    "r=pd.read_csv('ranking/final/ranking_st_fa9.csv')"
   ]
  },
  {
   "cell_type": "code",
   "execution_count": 58,
   "metadata": {},
   "outputs": [],
   "source": [
    "ranking=r.sort_values(by='fa9', ascending=False)"
   ]
  },
  {
   "cell_type": "code",
   "execution_count": 59,
   "metadata": {},
   "outputs": [],
   "source": [
    "ranking=r.sort_values(by='fa9', ascending=False)\n",
    "ranking=ranking.reset_index()"
   ]
  },
  {
   "cell_type": "code",
   "execution_count": null,
   "metadata": {},
   "outputs": [],
   "source": [
    "ranking[ranking['playerId']==614755]"
   ]
  },
  {
   "cell_type": "code",
   "execution_count": 61,
   "metadata": {},
   "outputs": [
    {
     "name": "stdout",
     "output_type": "stream",
     "text": [
      "matchid: 2800011\n",
      "playerid: 101669\n",
      "A. Dzyuba\n",
      "matchid: 5414266\n",
      "playerid: 614755\n",
      "Z. Amdouni\n",
      "matchid: 2799552\n",
      "playerid: 8717\n",
      "H. Kane\n",
      "matchid: 2799965\n",
      "playerid: 97592\n",
      "M. Dabbur\n",
      "matchid: 2799578\n",
      "playerid: 8717\n",
      "H. Kane\n",
      "matchid: 2799923\n",
      "playerid: 3291\n",
      "Paco Alcácer\n",
      "matchid: 5414162\n",
      "playerid: 273206\n",
      "G. Rodrigues\n",
      "matchid: 2799664\n",
      "playerid: 118\n",
      "M. Depay\n",
      "matchid: 2800067\n",
      "playerid: 14879\n",
      "T. Pukki\n",
      "matchid: 2799654\n",
      "playerid: 3322\n",
      "Cristiano Ronaldo\n",
      "matchid: 2800021\n",
      "playerid: 454072\n",
      "A. Georgiou\n",
      "matchid: 2800028\n",
      "playerid: 101669\n",
      "A. Dzyuba\n",
      "matchid: 2799965\n",
      "playerid: 20824\n",
      "E. Zahavi\n",
      "matchid: 2799941\n",
      "playerid: 14703\n",
      "M. Arnautović\n",
      "matchid: 2799660\n",
      "playerid: 135923\n",
      "Gonçalo Paciência\n",
      "matchid: 2799813\n",
      "playerid: 15199\n",
      "M. Gavranović\n",
      "matchid: 2800039\n",
      "playerid: 20479\n",
      "F. Quagliarella\n",
      "matchid: 2799667\n",
      "playerid: 234710\n",
      "C. Washington\n",
      "matchid: 2800049\n",
      "playerid: 8327\n",
      "E. Džeko\n",
      "matchid: 2799838\n",
      "playerid: 282768\n",
      "C. Itten\n",
      "matchid: 5414229\n",
      "playerid: 3327\n",
      "Joselu\n",
      "matchid: 2799587\n",
      "playerid: 8717\n",
      "H. Kane\n",
      "matchid: 2799685\n",
      "playerid: 134397\n",
      "S. Gnabry\n",
      "matchid: 2800025\n",
      "playerid: 7905\n",
      "R. Lukaku\n",
      "matchid: 2799934\n",
      "playerid: 14817\n",
      "R. Lewandowski\n",
      "matchid: 2799931\n",
      "playerid: 329061\n",
      "K. Piątek\n",
      "matchid: 5414206\n",
      "playerid: 14812\n",
      "I. Perišić\n",
      "matchid: 5414312\n",
      "playerid: 7905\n",
      "R. Lukaku\n",
      "matchid: 2799935\n",
      "playerid: 20824\n",
      "E. Zahavi\n",
      "matchid: 2800032\n",
      "playerid: 38031\n",
      "C. Benteke\n",
      "matchid: 5414307\n",
      "playerid: 301017\n",
      "M. Thuram\n",
      "matchid: 2800014\n",
      "playerid: 238498\n",
      "M. Fedin\n",
      "matchid: 5414134\n",
      "playerid: 221069\n",
      "W. Weghorst\n",
      "matchid: 2799754\n",
      "playerid: 134397\n",
      "S. Gnabry\n",
      "matchid: 5414236\n",
      "playerid: 7905\n",
      "R. Lukaku\n",
      "matchid: 2799984\n",
      "playerid: 77558\n",
      "G. Sigurdsson\n",
      "matchid: 2799588\n",
      "playerid: 82389\n",
      "Z. Ondrášek\n",
      "matchid: 2799661\n",
      "playerid: 383\n",
      "D. Tadić\n",
      "matchid: 5414207\n",
      "playerid: 529784\n",
      "H. Dervişoğlu\n",
      "matchid: 5414119\n",
      "playerid: 442514\n",
      "L. Dykes\n",
      "matchid: 5414106\n",
      "playerid: 579408\n",
      "R. Højlund\n",
      "matchid: 5414295\n",
      "playerid: 3322\n",
      "Cristiano Ronaldo\n",
      "matchid: 2799654\n",
      "playerid: 265673\n",
      "Bernardo Silva\n",
      "matchid: 2799905\n",
      "playerid: 51013\n",
      "R. Quaison\n",
      "matchid: 2799930\n",
      "playerid: 21177\n",
      "G. Pandev\n",
      "matchid: 2799577\n",
      "playerid: 251447\n",
      "V. Muriqi\n",
      "matchid: 2799668\n",
      "playerid: 134397\n",
      "S. Gnabry\n",
      "matchid: 2800006\n",
      "playerid: 454072\n",
      "A. Georgiou\n",
      "matchid: 2799657\n",
      "playerid: 3322\n",
      "Cristiano Ronaldo\n",
      "matchid: 2800050\n",
      "playerid: 8327\n",
      "E. Džeko\n",
      "matchid: 2799591\n",
      "playerid: 8717\n",
      "H. Kane\n",
      "matchid: 2799930\n",
      "playerid: 402269\n",
      "E. Elmas\n",
      "matchid: 2799736\n",
      "playerid: 134397\n",
      "S. Gnabry\n",
      "matchid: 2799925\n",
      "playerid: 9637\n",
      "J. King\n",
      "matchid: 5414291\n",
      "playerid: 476382\n",
      "D. Szoboszlai\n"
     ]
    }
   ],
   "source": [
    "bestplayers(ranking)"
   ]
  },
  {
   "cell_type": "code",
   "execution_count": null,
   "metadata": {},
   "outputs": [],
   "source": [
    "path=\"norm_stats/adjustedstrikerstats.csv\"\n",
    "comparison(101669,2800011,path, meandf.columns)"
   ]
  },
  {
   "cell_type": "code",
   "execution_count": 259,
   "metadata": {},
   "outputs": [],
   "source": [
    "ranking.to_csv('rank_fb_runweights.csv',index=False)"
   ]
  },
  {
   "cell_type": "code",
   "execution_count": null,
   "metadata": {},
   "outputs": [],
   "source": []
  }
 ],
 "metadata": {
  "kernelspec": {
   "display_name": "Python 3",
   "language": "python",
   "name": "python3"
  },
  "language_info": {
   "codemirror_mode": {
    "name": "ipython",
    "version": 3
   },
   "file_extension": ".py",
   "mimetype": "text/x-python",
   "name": "python",
   "nbconvert_exporter": "python",
   "pygments_lexer": "ipython3",
   "version": "3.10.4"
  }
 },
 "nbformat": 4,
 "nbformat_minor": 2
}
