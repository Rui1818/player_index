{
 "cells": [
  {
   "cell_type": "code",
   "execution_count": 261,
   "metadata": {},
   "outputs": [],
   "source": [
    "import pandas as pd\n",
    "import numpy as np\n",
    "import json"
   ]
  },
  {
   "cell_type": "code",
   "execution_count": 262,
   "metadata": {},
   "outputs": [],
   "source": [
    "pd.set_option('display.max_columns', 5000)"
   ]
  },
  {
   "cell_type": "code",
   "execution_count": 263,
   "metadata": {},
   "outputs": [],
   "source": [
    "def comparison(playerid, matchId, file, cols):\n",
    "    total=pd.read_csv(file)\n",
    "    m=total[cols].mean()\n",
    "    print('The mean:')\n",
    "    print(m)\n",
    "    total=total[total['playerId']==playerid]\n",
    "    total=total[total['matchId']==matchId]\n",
    "    path='data/events/'+str(matchId)+'.json'\n",
    "    with open(path, 'r', encoding='utf-8') as f:\n",
    "        rd = f.read()\n",
    "    rd=rd[28:-2]\n",
    "    obj = json.loads(rd)\n",
    "    dfw = pd.json_normalize(obj)\n",
    "    dfw=dfw[dfw['player.id']==playerid]\n",
    "    print('player:', dfw['player.name'].iloc[0])\n",
    "    print(total[cols])\n",
    "    "
   ]
  },
  {
   "cell_type": "code",
   "execution_count": 264,
   "metadata": {},
   "outputs": [],
   "source": [
    "def get_player(playerid, matchId):\n",
    "\n",
    "    path='data/events/'+str(matchId)+'.json'\n",
    "    with open(path, 'r', encoding='utf-8') as f:\n",
    "        rd = f.read()\n",
    "    rd=rd[28:-2]\n",
    "    obj = json.loads(rd)\n",
    "    dfw = pd.json_normalize(obj)\n",
    "    dfw=dfw[dfw['player.id']==playerid]\n",
    "    return dfw['player.name'].iloc[0]"
   ]
  },
  {
   "cell_type": "code",
   "execution_count": 265,
   "metadata": {},
   "outputs": [],
   "source": [
    "def bestplayers(df):\n",
    "    for i in range (15):\n",
    "        id=df['playerId'].iloc[i]\n",
    "        matchid=df['matchId'].iloc[i]\n",
    "        player=get_player(id,matchid)\n",
    "        print('matchid:',matchid)\n",
    "        print('playerid:', id)\n",
    "        print(player)"
   ]
  },
  {
   "cell_type": "code",
   "execution_count": 266,
   "metadata": {},
   "outputs": [],
   "source": [
    "loss_list= [\n",
    "    'total.losses',\n",
    "    'total.ownHalfLosses',\n",
    "    'total.dangerousOwnHalfLosses'\n",
    "]"
   ]
  },
  {
   "cell_type": "code",
   "execution_count": 295,
   "metadata": {},
   "outputs": [],
   "source": [
    "def preprocessdf(mean, std, position):\n",
    "    meandf=pd.read_csv(mean)\n",
    "    stddf=pd.read_csv(std)\n",
    "    pdf=pd.read_csv(position)\n",
    "    meandf=meandf[meandf.columns[1:]]\n",
    "    stddf=stddf[stddf.columns[1:]]\n",
    "    '''\n",
    "    pdf=pdf[pdf.columns[1:]]\n",
    "    '''\n",
    "    keep_columns=meandf.columns\n",
    "    calc_col = [col for col in pdf.columns if col.startswith('total.') and col != 'total.minutesOnField']\n",
    "    calc_filtered = [col for col in calc_col if col not in keep_columns]\n",
    "    cpdf=pdf.drop(columns=calc_filtered)\n",
    "    for w in loss_list:\n",
    "        if(w in keep_columns):\n",
    "            cpdf[w]*=-1\n",
    "    return cpdf, meandf, stddf"
   ]
  },
  {
   "cell_type": "code",
   "execution_count": 296,
   "metadata": {},
   "outputs": [],
   "source": [
    "def resultcalculation(calc,mean,std, weight):\n",
    "    t0=calc.copy()\n",
    "    t1=calc.copy()\n",
    "    t2=calc.copy()\n",
    "    \n",
    "    t0[mean.columns]-=mean.loc[0]\n",
    "    t1[mean.columns]-=mean.loc[1]\n",
    "    t2[mean.columns]-=mean.loc[2]\n",
    "    t0[mean.columns]/=std.loc[0]\n",
    "    t1[mean.columns]/=std.loc[1]\n",
    "    t2[mean.columns]/=std.loc[2]\n",
    "    '''\n",
    "    '''\n",
    "    vec=np.array(weight)\n",
    "    calc_col = [col for col in calc.columns if col.startswith('total.') and col != 'total.minutesOnField']\n",
    "    statsarray0=t0[calc_col].to_numpy()\n",
    "    statsarray1=t1[calc_col].to_numpy()\n",
    "    statsarray2=t2[calc_col].to_numpy()\n",
    "    res0=np.dot(statsarray0, vec)\n",
    "    res1=np.dot(statsarray1, vec)\n",
    "    res2=np.dot(statsarray2, vec)\n",
    "    return res0, res1, res2"
   ]
  },
  {
   "cell_type": "code",
   "execution_count": 411,
   "metadata": {},
   "outputs": [],
   "source": [
    "meanpath='mean_std/mean_midfieldclustering.csv'\n",
    "stdpath='mean_std/std_midfieldclustering.csv'\n",
    "playerpath='norm_stats/normalized_midfieldstats.csv'"
   ]
  },
  {
   "cell_type": "code",
   "execution_count": 412,
   "metadata": {},
   "outputs": [],
   "source": [
    "calcdf, meandf, stddf=preprocessdf(meanpath, stdpath, playerpath)"
   ]
  },
  {
   "cell_type": "code",
   "execution_count": 415,
   "metadata": {},
   "outputs": [],
   "source": [
    "#todo\n",
    "lb_run_weights=[]\n",
    "\n",
    "\n",
    "\n",
    "lb_def_weights=[1,2,1,4,1,4,1,4,1,1,1,2,4,1,4,1,2,4,1,1,4,1,0,0,1,1]\n",
    "lb_off_weights=[1,4,1,2,1,2,2,4,2,4,1,4,2,1,2,1,2,2,4,2,2,1,4,4,1,1]\n",
    "iv_def_weights=[1,2,1,4,1,4,1,4,2,1,4,1,2,4,1,2,4,1,0,1,1]\n",
    "iv_hyb_weights=[1,2,1,4,1,4,1,4,2,1,4,1,4,1,1,2,4,1,0,1,2]\n",
    "iv_off_weights=[1,4,1,4,1,1,1,4,4,1,4,1,4,1,2,2,4,2,2,1,2]\n",
    "wi_pla_weights=[1,1,4,1,1,4,2,1,4,2,4,4,2,4,4]\n",
    "wi_dri_weights=[1,1,4,1,4,2,4,1,4,4,4,2,4,4,2]\n",
    "wi_run_weights=[1,1,4,1,2,2,4,1,4,4,4,1,4,4,4]\n",
    "st_run_weights=[1,0,2,2,4,2,1,4,4,4,4,1,4]\n",
    "st_goa_weights=[1,0,2,2,4,2,4,4,4,2,2,1,4]\n",
    "st_box_weights=[2,0,2,2,2,1,1,4,2,2,4,1,4]\n",
    "mi_dpl_weigts=[]\n",
    "mi_opl_weigts=[]\n",
    "mi_def_weigts=[]\n",
    "mi_off_weigts=[]\n",
    "unitlist=[1]*len(st_run_weights)"
   ]
  },
  {
   "cell_type": "code",
   "execution_count": 413,
   "metadata": {},
   "outputs": [
    {
     "data": {
      "text/html": [
       "<div>\n",
       "<style scoped>\n",
       "    .dataframe tbody tr th:only-of-type {\n",
       "        vertical-align: middle;\n",
       "    }\n",
       "\n",
       "    .dataframe tbody tr th {\n",
       "        vertical-align: top;\n",
       "    }\n",
       "\n",
       "    .dataframe thead th {\n",
       "        text-align: right;\n",
       "    }\n",
       "</style>\n",
       "<table border=\"1\" class=\"dataframe\">\n",
       "  <thead>\n",
       "    <tr style=\"text-align: right;\">\n",
       "      <th></th>\n",
       "      <th>total.defensiveDuels</th>\n",
       "      <th>total.defensiveDuelsWon</th>\n",
       "      <th>total.offensiveDuels</th>\n",
       "      <th>total.passes</th>\n",
       "      <th>total.successfulPasses</th>\n",
       "      <th>total.passesToFinalThird</th>\n",
       "      <th>total.forwardPasses</th>\n",
       "      <th>total.successfulForwardPasses</th>\n",
       "      <th>total.throughPasses</th>\n",
       "      <th>total.successfulThroughPasses</th>\n",
       "      <th>total.keyPasses</th>\n",
       "      <th>total.longPasses</th>\n",
       "      <th>total.successfulLongPasses</th>\n",
       "      <th>total.interceptions</th>\n",
       "      <th>total.pressingDuels</th>\n",
       "      <th>total.recoveries</th>\n",
       "      <th>total.opponentHalfRecoveries</th>\n",
       "      <th>total.losses</th>\n",
       "      <th>total.ownHalfLosses</th>\n",
       "      <th>total.xgShot</th>\n",
       "      <th>total.xgAssist</th>\n",
       "      <th>total.receivedPass</th>\n",
       "      <th>total.touchInBox</th>\n",
       "      <th>total.progressiveRun</th>\n",
       "    </tr>\n",
       "  </thead>\n",
       "  <tbody>\n",
       "  </tbody>\n",
       "</table>\n",
       "</div>"
      ],
      "text/plain": [
       "Empty DataFrame\n",
       "Columns: [total.defensiveDuels, total.defensiveDuelsWon, total.offensiveDuels, total.passes, total.successfulPasses, total.passesToFinalThird, total.forwardPasses, total.successfulForwardPasses, total.throughPasses, total.successfulThroughPasses, total.keyPasses, total.longPasses, total.successfulLongPasses, total.interceptions, total.pressingDuels, total.recoveries, total.opponentHalfRecoveries, total.losses, total.ownHalfLosses, total.xgShot, total.xgAssist, total.receivedPass, total.touchInBox, total.progressiveRun]\n",
       "Index: []"
      ]
     },
     "execution_count": 413,
     "metadata": {},
     "output_type": "execute_result"
    }
   ],
   "source": [
    "featuredf=pd.DataFrame(columns=meandf.columns)\n",
    "'''\n",
    "featuredf.loc[0]=iv_def_weights\n",
    "featuredf.loc[1]=iv_hyb_weights\n",
    "featuredf.loc[2]=iv_off_weights\n",
    "'''\n",
    "featuredf"
   ]
  },
  {
   "cell_type": "code",
   "execution_count": 406,
   "metadata": {},
   "outputs": [],
   "source": [
    "r0,r1,r2=resultcalculation(calcdf,meandf,stddf, st_goa_weights)"
   ]
  },
  {
   "cell_type": "code",
   "execution_count": 407,
   "metadata": {},
   "outputs": [],
   "source": [
    "calcdf['Res0def']=r0\n",
    "calcdf['Res1def']=r1\n",
    "calcdf['Res2def']=r2"
   ]
  },
  {
   "cell_type": "code",
   "execution_count": 408,
   "metadata": {},
   "outputs": [],
   "source": [
    "ranking=calcdf.sort_values(by='Res0def', ascending=False)"
   ]
  },
  {
   "cell_type": "code",
   "execution_count": 409,
   "metadata": {},
   "outputs": [
    {
     "name": "stdout",
     "output_type": "stream",
     "text": [
      "matchid: 2800011\n",
      "playerid: 101669\n",
      "A. Dzyuba\n",
      "matchid: 2799923\n",
      "playerid: 3291\n",
      "Paco Alcácer\n",
      "matchid: 2799578\n",
      "playerid: 8717\n",
      "H. Kane\n",
      "matchid: 2800021\n",
      "playerid: 454072\n",
      "A. Georgiou\n",
      "matchid: 5414162\n",
      "playerid: 273206\n",
      "G. Rodrigues\n",
      "matchid: 2799552\n",
      "playerid: 8717\n",
      "H. Kane\n",
      "matchid: 2799965\n",
      "playerid: 97592\n",
      "M. Dabbur\n",
      "matchid: 2800028\n",
      "playerid: 101669\n",
      "A. Dzyuba\n",
      "matchid: 2799664\n",
      "playerid: 118\n",
      "M. Depay\n",
      "matchid: 2800067\n",
      "playerid: 14879\n",
      "T. Pukki\n",
      "matchid: 2799667\n",
      "playerid: 234710\n",
      "C. Washington\n",
      "matchid: 2799660\n",
      "playerid: 135923\n",
      "Gonçalo Paciência\n",
      "matchid: 2799654\n",
      "playerid: 3322\n",
      "Cristiano Ronaldo\n",
      "matchid: 2799965\n",
      "playerid: 20824\n",
      "E. Zahavi\n",
      "matchid: 5414119\n",
      "playerid: 442514\n",
      "L. Dykes\n"
     ]
    }
   ],
   "source": [
    "bestplayers(ranking)"
   ]
  },
  {
   "cell_type": "code",
   "execution_count": null,
   "metadata": {},
   "outputs": [],
   "source": [
    "path=\"norm_stats/adjustedstrikerstats.csv\"\n",
    "comparison(101669,2800011,path, meandf.columns)"
   ]
  },
  {
   "cell_type": "code",
   "execution_count": 410,
   "metadata": {},
   "outputs": [],
   "source": [
    "ranking.to_csv('rank_st_zielspielerweights.csv',index=False)"
   ]
  },
  {
   "cell_type": "code",
   "execution_count": null,
   "metadata": {},
   "outputs": [],
   "source": []
  }
 ],
 "metadata": {
  "kernelspec": {
   "display_name": "Python 3",
   "language": "python",
   "name": "python3"
  },
  "language_info": {
   "codemirror_mode": {
    "name": "ipython",
    "version": 3
   },
   "file_extension": ".py",
   "mimetype": "text/x-python",
   "name": "python",
   "nbconvert_exporter": "python",
   "pygments_lexer": "ipython3",
   "version": "3.10.4"
  }
 },
 "nbformat": 4,
 "nbformat_minor": 2
}
