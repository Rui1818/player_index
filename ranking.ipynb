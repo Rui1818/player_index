{
 "cells": [
  {
   "cell_type": "code",
   "execution_count": 4,
   "metadata": {},
   "outputs": [],
   "source": [
    "import pandas as pd\n",
    "import numpy as np\n",
    "import json"
   ]
  },
  {
   "cell_type": "code",
   "execution_count": 5,
   "metadata": {},
   "outputs": [],
   "source": [
    "pd.set_option('display.max_columns', 5000)"
   ]
  },
  {
   "cell_type": "code",
   "execution_count": 6,
   "metadata": {},
   "outputs": [],
   "source": [
    "#compares a player with the mean of his position\n",
    "def comparison(playerid, matchId, file, cols):\n",
    "    total=pd.read_csv(file)\n",
    "    m=total[cols].mean()\n",
    "    print('The mean:')\n",
    "    print(m)\n",
    "    total=total[total['playerId']==playerid]\n",
    "    total=total[total['matchId']==matchId]\n",
    "    path='data/events/'+str(matchId)+'.json'\n",
    "    with open(path, 'r', encoding='utf-8') as f:\n",
    "        rd = f.read()\n",
    "    rd=rd[28:-2]\n",
    "    obj = json.loads(rd)\n",
    "    dfw = pd.json_normalize(obj)\n",
    "    dfw=dfw[dfw['player.id']==playerid]\n",
    "    print('player:', dfw['player.name'].iloc[0])\n",
    "    print(total[cols])\n",
    "    "
   ]
  },
  {
   "cell_type": "code",
   "execution_count": 7,
   "metadata": {},
   "outputs": [],
   "source": [
    "#returns the player using player and match id\n",
    "def get_player(playerid, matchId):\n",
    "    path='data/events/'+str(matchId)+'.json'\n",
    "    with open(path, 'r', encoding='utf-8') as f:\n",
    "        rd = f.read()\n",
    "    rd=rd[28:-2]\n",
    "    obj = json.loads(rd)\n",
    "    dfw = pd.json_normalize(obj)\n",
    "    dfw=dfw[dfw['player.id']==playerid]\n",
    "    return dfw['player.name'].iloc[0]"
   ]
  },
  {
   "cell_type": "code",
   "execution_count": 8,
   "metadata": {},
   "outputs": [],
   "source": [
    "#print the top 50 players according to the ranking\n",
    "def bestplayers(df):\n",
    "    for i in range (50):\n",
    "        id=df['playerId'].iloc[i]\n",
    "        matchid=df['matchId'].iloc[i]\n",
    "        player=get_player(id,matchid)\n",
    "        print('matchid:',matchid)\n",
    "        print('playerid:', id)\n",
    "        print(player)"
   ]
  },
  {
   "cell_type": "code",
   "execution_count": 9,
   "metadata": {},
   "outputs": [],
   "source": [
    "#negative features are multiplied by -1 for the convention\n",
    "loss_list= [\n",
    "    'total.losses',\n",
    "    'total.ownHalfLosses',\n",
    "    'total.dangerousOwnHalfLosses'\n",
    "]"
   ]
  },
  {
   "cell_type": "code",
   "execution_count": 50,
   "metadata": {},
   "outputs": [],
   "source": [
    "#preprocess and filter the dataframe with the feature set \n",
    "def preprocessdf(mean, std, position):\n",
    "    meandf=pd.read_csv(mean)\n",
    "    stddf=pd.read_csv(std)\n",
    "    pdf=pd.read_csv(position)\n",
    "    meandf=meandf[meandf.columns[1:]]\n",
    "    stddf=stddf[stddf.columns[1:]]\n",
    "    '''\n",
    "    pdf=pdf[pdf.columns[1:]]\n",
    "    '''\n",
    "    keep_columns=meandf.columns\n",
    "    calc_col = [col for col in pdf.columns if col.startswith('total.') and col != 'total.minutesOnField']\n",
    "    calc_filtered = [col for col in calc_col if col not in keep_columns]\n",
    "    cpdf=pdf.drop(columns=calc_filtered)\n",
    "    for w in loss_list:\n",
    "        if(w in keep_columns):\n",
    "            cpdf[w]*=-1\n",
    "    return cpdf, meandf, stddf"
   ]
  },
  {
   "cell_type": "code",
   "execution_count": 11,
   "metadata": {},
   "outputs": [],
   "source": [
    "#calculate the weighted sum of the data normalized to the selected cluster from the result\n",
    "def resultcalculation(calc,mean,std,i, weight):\n",
    "    t0=calc.copy()\n",
    "    \n",
    "    t0[mean.columns]-=mean.loc[i]\n",
    "    \n",
    "    t0[mean.columns]/=std.loc[i]\n",
    "\n",
    "    vec=np.array(weight)\n",
    "    calc_col = [col for col in calc.columns if col.startswith('total.') and col != 'total.minutesOnField']\n",
    "    statsarray0=t0[calc_col].to_numpy()\n",
    "    res0=np.dot(statsarray0, vec)\n",
    "    return res0"
   ]
  },
  {
   "cell_type": "code",
   "execution_count": 118,
   "metadata": {},
   "outputs": [],
   "source": [
    "meanpath='mean_std/mean_stv3clustering.csv'\n",
    "stdpath='mean_std/std_stv3clustering.csv'\n",
    "playerpath='norm_stats/normalized_striker.csv'"
   ]
  },
  {
   "cell_type": "code",
   "execution_count": 119,
   "metadata": {},
   "outputs": [
    {
     "data": {
      "text/html": [
       "<div>\n",
       "<style scoped>\n",
       "    .dataframe tbody tr th:only-of-type {\n",
       "        vertical-align: middle;\n",
       "    }\n",
       "\n",
       "    .dataframe tbody tr th {\n",
       "        vertical-align: top;\n",
       "    }\n",
       "\n",
       "    .dataframe thead th {\n",
       "        text-align: right;\n",
       "    }\n",
       "</style>\n",
       "<table border=\"1\" class=\"dataframe\">\n",
       "  <thead>\n",
       "    <tr style=\"text-align: right;\">\n",
       "      <th></th>\n",
       "      <th>Unnamed: 0</th>\n",
       "      <th>total.goals</th>\n",
       "      <th>total.shots</th>\n",
       "      <th>total.keyPasses</th>\n",
       "      <th>total.shotAssists</th>\n",
       "      <th>total.recoveries</th>\n",
       "      <th>total.opponentHalfRecoveries</th>\n",
       "      <th>total.losses</th>\n",
       "      <th>total.ownHalfLosses</th>\n",
       "      <th>total.xgShot</th>\n",
       "      <th>total.xgAssist</th>\n",
       "      <th>total.receivedPass</th>\n",
       "      <th>total.touchInBox</th>\n",
       "      <th>total.progressivePasses</th>\n",
       "      <th>total.shotsOnTarget</th>\n",
       "    </tr>\n",
       "  </thead>\n",
       "  <tbody>\n",
       "    <tr>\n",
       "      <th>0</th>\n",
       "      <td>0</td>\n",
       "      <td>0.406524</td>\n",
       "      <td>0.637292</td>\n",
       "      <td>-0.272048</td>\n",
       "      <td>-0.232560</td>\n",
       "      <td>-0.553720</td>\n",
       "      <td>-0.465354</td>\n",
       "      <td>0.033788</td>\n",
       "      <td>0.157258</td>\n",
       "      <td>0.480186</td>\n",
       "      <td>-0.281279</td>\n",
       "      <td>0.016407</td>\n",
       "      <td>0.488706</td>\n",
       "      <td>-0.329428</td>\n",
       "      <td>0.612906</td>\n",
       "    </tr>\n",
       "    <tr>\n",
       "      <th>1</th>\n",
       "      <td>1</td>\n",
       "      <td>-0.320824</td>\n",
       "      <td>-0.442419</td>\n",
       "      <td>-0.131503</td>\n",
       "      <td>-0.073640</td>\n",
       "      <td>0.685936</td>\n",
       "      <td>0.496176</td>\n",
       "      <td>-0.599109</td>\n",
       "      <td>-0.622552</td>\n",
       "      <td>-0.406975</td>\n",
       "      <td>-0.159202</td>\n",
       "      <td>-0.044779</td>\n",
       "      <td>-0.395813</td>\n",
       "      <td>0.337852</td>\n",
       "      <td>-0.424786</td>\n",
       "    </tr>\n",
       "    <tr>\n",
       "      <th>2</th>\n",
       "      <td>2</td>\n",
       "      <td>-0.441474</td>\n",
       "      <td>-0.508442</td>\n",
       "      <td>-0.222245</td>\n",
       "      <td>-0.274371</td>\n",
       "      <td>-0.408421</td>\n",
       "      <td>-0.332208</td>\n",
       "      <td>0.795881</td>\n",
       "      <td>0.625220</td>\n",
       "      <td>-0.435311</td>\n",
       "      <td>-0.297816</td>\n",
       "      <td>-0.425898</td>\n",
       "      <td>-0.421798</td>\n",
       "      <td>-0.406984</td>\n",
       "      <td>-0.483749</td>\n",
       "    </tr>\n",
       "    <tr>\n",
       "      <th>3</th>\n",
       "      <td>3</td>\n",
       "      <td>0.017723</td>\n",
       "      <td>-0.071204</td>\n",
       "      <td>0.016445</td>\n",
       "      <td>-0.024496</td>\n",
       "      <td>-0.158881</td>\n",
       "      <td>-0.140521</td>\n",
       "      <td>-0.225830</td>\n",
       "      <td>-0.233655</td>\n",
       "      <td>-0.080834</td>\n",
       "      <td>-0.052462</td>\n",
       "      <td>-0.083287</td>\n",
       "      <td>-0.087067</td>\n",
       "      <td>-0.084544</td>\n",
       "      <td>-0.062303</td>\n",
       "    </tr>\n",
       "  </tbody>\n",
       "</table>\n",
       "</div>"
      ],
      "text/plain": [
       "   Unnamed: 0  total.goals  total.shots  total.keyPasses  total.shotAssists  \\\n",
       "0           0     0.406524     0.637292        -0.272048          -0.232560   \n",
       "1           1    -0.320824    -0.442419        -0.131503          -0.073640   \n",
       "2           2    -0.441474    -0.508442        -0.222245          -0.274371   \n",
       "3           3     0.017723    -0.071204         0.016445          -0.024496   \n",
       "\n",
       "   total.recoveries  total.opponentHalfRecoveries  total.losses  \\\n",
       "0         -0.553720                     -0.465354      0.033788   \n",
       "1          0.685936                      0.496176     -0.599109   \n",
       "2         -0.408421                     -0.332208      0.795881   \n",
       "3         -0.158881                     -0.140521     -0.225830   \n",
       "\n",
       "   total.ownHalfLosses  total.xgShot  total.xgAssist  total.receivedPass  \\\n",
       "0             0.157258      0.480186       -0.281279            0.016407   \n",
       "1            -0.622552     -0.406975       -0.159202           -0.044779   \n",
       "2             0.625220     -0.435311       -0.297816           -0.425898   \n",
       "3            -0.233655     -0.080834       -0.052462           -0.083287   \n",
       "\n",
       "   total.touchInBox  total.progressivePasses  total.shotsOnTarget  \n",
       "0          0.488706                -0.329428             0.612906  \n",
       "1         -0.395813                 0.337852            -0.424786  \n",
       "2         -0.421798                -0.406984            -0.483749  \n",
       "3         -0.087067                -0.084544            -0.062303  "
      ]
     },
     "execution_count": 119,
     "metadata": {},
     "output_type": "execute_result"
    }
   ],
   "source": [
    "pd.read_csv(meanpath)"
   ]
  },
  {
   "cell_type": "code",
   "execution_count": 120,
   "metadata": {},
   "outputs": [],
   "source": [
    "calcdf, meandf, stddf=preprocessdf(meanpath, stdpath, playerpath)"
   ]
  },
  {
   "cell_type": "code",
   "execution_count": null,
   "metadata": {},
   "outputs": [],
   "source": [
    "calcdf"
   ]
  },
  {
   "cell_type": "code",
   "execution_count": 124,
   "metadata": {},
   "outputs": [],
   "source": [
    "#weight vector for each player profile\n",
    "iv_def_weights=[1,2,1,4,1,4,1,4,2,1,4,1,2,4,1,2,4,1,0,1,1]\n",
    "iv_hyb_weights=[1,2,1,4,1,4,1,4,2,1,4,1,4,1,1,2,4,1,0,1,2]\n",
    "iv_off_weights=[1,4,1,4,1,1,1,4,4,1,4,1,4,1,2,2,4,2,2,1,2]\n",
    "wi_pla_weights=[1,1,4,1,1,4,2,1,4,2,4,4,2,4,4]\n",
    "wi_dri_weights=[1,1,4,1,4,2,4,1,4,4,4,2,4,4,2]\n",
    "wi_run_weights=[1,1,4,1,2,2,4,1,4,4,4,1,4,4,4]\n",
    "st_run_weights=[4,1,0,2,2,4,2,1,4,4,4,4,1,4]\n",
    "st_goa_weights=[4,1,0,2,2,4,2,4,4,4,2,2,1,4]\n",
    "st_box_weights=[4,2,0,2,2,2,1,1,4,2,2,4,1,4]\n",
    "st_fa9_weights=[4,2,0,2,2,4,2,4,4,4,2,2,2,4]\n",
    "mi_dpl_weights=[1,4,0,1,4,4,1,4,1,2,1,1,2,4,4,1,1,2,4,0,2,4,0,1]\n",
    "mi_opl_weights=[0,0,4,0,0,4,1,4,0,0,4,0,0,0,2,1,1,0,0,4,4,2,2,0]\n",
    "mi_def_weights=[1,4,0,1,2,2,1,4,1,2,1,1,1,4,4,2,4,2,4,0,2,4,0,2]\n",
    "mi_off_weights=[0,0,4,1,4,1,1,4,0,0,1,0,0,2,2,2,4,0,0,2,4,2,2,4]\n",
    "lb_def_weights=[1,2,1,4,1,4,1,4,1,1,1,2,4,1,4,1,2,4,1,1,4,1,0,0,1,1]\n",
    "lb_off_weights=[1,4,1,2,1,2,2,4,2,4,1,4,2,1,2,1,2,2,4,2,2,1,4,4,1,1]\n",
    "lb_run_weights=[1,4,1,4,1,4,1,2,1,4,1,4,2,1,4,1,2,2,4,1,2,1,4,4,1,2]\n",
    "unitlist=[1]*len(mi_def_weights)"
   ]
  },
  {
   "cell_type": "code",
   "execution_count": 132,
   "metadata": {},
   "outputs": [],
   "source": [
    "#calculate the ratings based on the weights of the profile\n",
    "r0=resultcalculation(calcdf,meandf,stddf, 3 , st_fa9_weights)\n",
    "r1=resultcalculation(calcdf,meandf,stddf, 0 , st_box_weights)\n",
    "r2=resultcalculation(calcdf,meandf,stddf, 1 , st_run_weights)\n",
    "r3=resultcalculation(calcdf,meandf,stddf, 2 , st_goa_weights)"
   ]
  },
  {
   "cell_type": "code",
   "execution_count": 133,
   "metadata": {},
   "outputs": [],
   "source": [
    "calcdf['false 9']=r0\n",
    "calcdf['box']=r1\n",
    "calcdf['2nd runner']=r2\n",
    "calcdf['target']=r3"
   ]
  },
  {
   "cell_type": "code",
   "execution_count": 136,
   "metadata": {},
   "outputs": [],
   "source": [
    "calcdf.to_csv('final_st_rating.csv' , index=False)"
   ]
  }
 ],
 "metadata": {
  "kernelspec": {
   "display_name": "Python 3",
   "language": "python",
   "name": "python3"
  },
  "language_info": {
   "codemirror_mode": {
    "name": "ipython",
    "version": 3
   },
   "file_extension": ".py",
   "mimetype": "text/x-python",
   "name": "python",
   "nbconvert_exporter": "python",
   "pygments_lexer": "ipython3",
   "version": "3.10.4"
  }
 },
 "nbformat": 4,
 "nbformat_minor": 2
}
