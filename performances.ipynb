{
 "cells": [
  {
   "cell_type": "code",
   "execution_count": 1,
   "metadata": {},
   "outputs": [],
   "source": [
    "import pandas as pd\n",
    "import numpy as np\n",
    "import json\n",
    "import matplotlib.pyplot as plt"
   ]
  },
  {
   "cell_type": "code",
   "execution_count": 2,
   "metadata": {},
   "outputs": [],
   "source": [
    "pd.set_option('display.max_columns', 5000)"
   ]
  },
  {
   "cell_type": "code",
   "execution_count": 3,
   "metadata": {},
   "outputs": [],
   "source": [
    "#returns the player using player and match id\n",
    "def get_player(playerid, matchId):\n",
    "    path='data/events/'+str(matchId)+'.json'\n",
    "    with open(path, 'r', encoding='utf-8') as f:\n",
    "        rd = f.read()\n",
    "    rd=rd[28:-2]\n",
    "    obj = json.loads(rd)\n",
    "    dfw = pd.json_normalize(obj)\n",
    "    dfw=dfw[dfw['player.id']==playerid]\n",
    "    return dfw['player.name'].iloc[0], dfw['team.name'].iloc[0]  ,dfw['matchId'].iloc[0]"
   ]
  },
  {
   "cell_type": "code",
   "execution_count": 217,
   "metadata": {},
   "outputs": [],
   "source": [
    "def bestplayers(df,name):\n",
    "    for i in range (50):\n",
    "        id=df['playerId'].iloc[i]\n",
    "        matchid=df['matchId'].iloc[i]\n",
    "        player, team, match=get_player(id,matchid)\n",
    "        x = \"{:.2f}\".format(df[name].iloc[i])\n",
    "        print('&',player, '&', team,'&', match, '&', x, '\\\\\\\\')\n",
    "        #  "
   ]
  },
  {
   "cell_type": "code",
   "execution_count": 669,
   "metadata": {},
   "outputs": [],
   "source": [
    "test=pd.read_csv('ranking/finalv2/ranking_mi_scaled.csv')"
   ]
  },
  {
   "cell_type": "code",
   "execution_count": 670,
   "metadata": {},
   "outputs": [],
   "source": [
    "test=test[['playerId', 'scaled_offensive', 'scaled_off_playmaker', 'scaled_defensive', 'scaled_def_playmaker']]"
   ]
  },
  {
   "cell_type": "code",
   "execution_count": 671,
   "metadata": {},
   "outputs": [],
   "source": [
    "test.to_csv('mi_perfmormances.csv', index=False)"
   ]
  },
  {
   "cell_type": "code",
   "execution_count": 650,
   "metadata": {},
   "outputs": [],
   "source": [
    "#function to print the top players of a ranking\n",
    "def printtop(df, sort, name):\n",
    "    count=df['playerId'].value_counts()\n",
    "    players_with_at_least_5_performances = count[count >= 5].index\n",
    "    filtered_data = df[df['playerId'].isin(players_with_at_least_5_performances)]\n",
    "    average_ratings = filtered_data.groupby('playerId')[['scaled_offensive', 'scaled_defensive', 'scaled_runner']].mean().reset_index()\n",
    "    average_ratings=average_ratings.sort_values(by=sort, ascending=False)\n",
    "    average_ratings.to_csv(name, index=False)\n",
    "    for i in range (10):\n",
    "        pid=average_ratings['playerId'].iloc[i]\n",
    "        r=average_ratings[sort].iloc[i]\n",
    "        temp=df[df['playerId']==pid].iloc[0]\n",
    "        mid=temp['matchId']\n",
    "        print(get_player(pid,mid),r)\n"
   ]
  },
  {
   "cell_type": "code",
   "execution_count": 653,
   "metadata": {},
   "outputs": [
    {
     "name": "stdout",
     "output_type": "stream",
     "text": [
      "('João Cancelo', 'Portugal', 2799535) 77.92728615026196\n",
      "('B. Pavard', 'France', 2799975) 77.57541361287741\n",
      "('Dani Carvajal', 'Spain', 2799908) 77.17421122643164\n",
      "('U. Meraş', 'Turkey', 2799988) 73.83083627581797\n",
      "('M. Wöber', 'Austria', 2799931) 71.08631736348777\n",
      "('F. Kudryashov', 'Russia', 2800008) 70.67317882834918\n",
      "('T. Hume', 'Northern Ireland', 5414155) 70.12464649958639\n",
      "('G. Di Lorenzo', 'Italy', 2800064) 69.7895918199934\n",
      "('N. Bancu', 'Romania', 2799891) 69.7427876075793\n",
      "('V. Pálsson', 'Iceland', 2799994) 68.52349193608092\n"
     ]
    }
   ],
   "source": [
    "printtop(test, 'scaled_defensive', 'avg_fb_ratings.csv')"
   ]
  },
  {
   "cell_type": "code",
   "execution_count": 489,
   "metadata": {},
   "outputs": [],
   "source": [
    "path='data/events/'+'2800024'+'.json'\n",
    "with open(path, 'r', encoding='utf-8') as f:\n",
    "    rd = f.read()\n",
    "rd=rd[28:-2]\n",
    "obj = json.loads(rd)\n",
    "dfw = pd.json_normalize(obj)"
   ]
  },
  {
   "cell_type": "code",
   "execution_count": 490,
   "metadata": {},
   "outputs": [
    {
     "data": {
      "text/plain": [
       "array(['A. Golovin', 'A. Semenov', 'A. Dzyuba', 'M. Devlin', 'L. Palmer',\n",
       "       'F. Kudryashov', None, 'D. Marshall', 'D. Barinov', 'O. Burke',\n",
       "       'M. Fernandes', 'A. Robertson', 'M. Ozdoev', 'Y. Zhirkov',\n",
       "       'C. McGregor', 'Guilherme', 'G. Dzhikiya', 'A. Ionov',\n",
       "       'C. Mulgrew', 'J. McGinn', 'R. Snodgrass', 'R. Fraser', 'J. Fleck',\n",
       "       'L. Shankland', 'D. Cheryshev', 'R. Christie', 'I. Akhmetov',\n",
       "       'S. Armstrong', 'N. Komlichenko'], dtype=object)"
      ]
     },
     "execution_count": 490,
     "metadata": {},
     "output_type": "execute_result"
    }
   ],
   "source": [
    "dfw['player.name'].unique()"
   ]
  },
  {
   "cell_type": "code",
   "execution_count": null,
   "metadata": {},
   "outputs": [],
   "source": [
    "dfw[['player.id','player.name']].iloc[:50]\n",
    "dfw[dfw['player.name']=='A. Robertson']"
   ]
  },
  {
   "cell_type": "markdown",
   "metadata": {},
   "source": [
    "Player ID's:\n",
    "\n",
    "Striker: Harry Kane 8717, Z. Amdouni 614755, mbappe 353833, weghorst 221069, seferovic 20766\n",
    "Winger: R.Vargas 511155 , E. Hazard 25707, X. Shaqiri 49872, doku 549485, saka 520291, foden 447205, coman 231139\n",
    "Midfield: KDB 38021, G.Xhaka 49876,   J. Palhinha 255430\n",
    "Defender: Van dijk 370, akanji 297957, KJaer 20433\n",
    "Fullback. J. Cancelo 135903 , R. rodriguez 14922, theo hernandez 344132, Robertson 222220\n",
    "\n"
   ]
  },
  {
   "cell_type": "code",
   "execution_count": 161,
   "metadata": {},
   "outputs": [],
   "source": [
    "eventpath='data/events/'\n",
    "rankpath='ranking/finalv2/'\n",
    "name='dribbler'"
   ]
  },
  {
   "cell_type": "code",
   "execution_count": 492,
   "metadata": {},
   "outputs": [],
   "source": [
    "playerdf=pd.read_csv(rankpath+'ranking_fb_scaled.csv')"
   ]
  },
  {
   "cell_type": "code",
   "execution_count": 493,
   "metadata": {},
   "outputs": [],
   "source": [
    "playerdf=playerdf[playerdf['playerId']==222220]\n",
    "playerdf=playerdf.sort_values(by='matchId', ascending=True)"
   ]
  },
  {
   "cell_type": "code",
   "execution_count": 383,
   "metadata": {},
   "outputs": [],
   "source": [
    "def bla(ind):\n",
    "    t=playerdf.iloc[ind]\n",
    "    pl=t['playerId']\n",
    "    m=t['matchId']\n",
    "    print(get_player(pl,m))"
   ]
  },
  {
   "cell_type": "code",
   "execution_count": 488,
   "metadata": {},
   "outputs": [
    {
     "name": "stdout",
     "output_type": "stream",
     "text": [
      "('A. Robertson', 'Scotland', 2800024)\n"
     ]
    }
   ],
   "source": [
    "bla(902)"
   ]
  },
  {
   "cell_type": "code",
   "execution_count": 495,
   "metadata": {},
   "outputs": [],
   "source": [
    "playerdf.to_csv('final_robertson_rating.csv', index=False)"
   ]
  },
  {
   "cell_type": "code",
   "execution_count": null,
   "metadata": {},
   "outputs": [],
   "source": [
    "pd.read_csv(rankpath+'ranking_mi_def.csv')"
   ]
  },
  {
   "cell_type": "code",
   "execution_count": 678,
   "metadata": {},
   "outputs": [],
   "source": [
    "m=pd.read_csv('ranking/finalv2/ranking_fb_scaled.csv')"
   ]
  },
  {
   "cell_type": "code",
   "execution_count": 680,
   "metadata": {},
   "outputs": [
    {
     "name": "stdout",
     "output_type": "stream",
     "text": [
      "47.0002613949184\n",
      "47.03648117129725\n",
      "49.296588398676505\n",
      "46.088355080899454\n"
     ]
    }
   ],
   "source": [
    "#median of all ratings\n",
    "mean1=m['scaled_offensive'].median()\n",
    "mean2=m['scaled_runner'].median()\n",
    "mean3=m['scaled_defensive'].median()\n",
    "#mean4=m['scaled_target'].median()\n",
    "print(mean1)\n",
    "print(mean2)\n",
    "print(mean3)\n",
    "print(mean4)"
   ]
  },
  {
   "cell_type": "code",
   "execution_count": 672,
   "metadata": {},
   "outputs": [],
   "source": [
    "result=pd.read_csv('gamesfromplayers/final_kane_rating.csv')"
   ]
  },
  {
   "cell_type": "code",
   "execution_count": 673,
   "metadata": {},
   "outputs": [],
   "source": [
    "result=result[result['seasonId']==21316]"
   ]
  },
  {
   "cell_type": "code",
   "execution_count": 677,
   "metadata": {},
   "outputs": [
    {
     "name": "stdout",
     "output_type": "stream",
     "text": [
      "97.34081800268976\n",
      "91.21543835421704\n",
      "97.61143125581353\n",
      "102.74178019077303\n"
     ]
    },
    {
     "data": {
      "image/png": "[encoded data removed]",
      "text/plain": [
       "<Figure size 640x480 with 1 Axes>"
      ]
     },
     "metadata": {},
     "output_type": "display_data"
    }
   ],
   "source": [
    "# Insert data\n",
    "data_points1 = np.array(result['scaled_false 9'])\n",
    "data_points2 = np.array(result['scaled_box'])\n",
    "data_points3 = np.array(result['scaled_2nd runner'])\n",
    "data_points4 = np.array(result['scaled_target'])\n",
    "print(data_points1.mean())\n",
    "print(data_points2.mean())\n",
    "print(data_points3.mean())\n",
    "print(data_points4.mean())\n",
    "\n",
    "# Generate x-axis values (game numbers)\n",
    "games = range(1, len(data_points1) + 1)\n",
    "\n",
    "# Plot the data points for each vector with different colors and connect them\n",
    "plt.plot(games, data_points1, marker='o', linestyle='-', color='blue', label='False 9')\n",
    "plt.plot(games, data_points2, marker='o', linestyle='-', color='red', label='Box striker')\n",
    "plt.plot(games, data_points3, marker='o', linestyle='-', color='green', label='2nd runner')\n",
    "plt.plot(games, data_points4, marker='o', linestyle='-', color='orange', label='Target striker')\n",
    "\n",
    "#plt.ylim(min_val - 5, max_val + 5)\n",
    "plt.ylim(9, 168)\n",
    "\n",
    "\n",
    "# Plot horizontal lines at the median value for each vector\n",
    "plt.axhline(mean1, color='blue', linestyle='--', label='False 9 median')\n",
    "plt.axhline(mean2, color='red', linestyle='--', label='Box striker median')\n",
    "plt.axhline(mean3, color='green', linestyle='--', label='2nd runner median')\n",
    "plt.axhline(mean4, color='orange', linestyle='--', label='Target striker median')\n",
    "\n",
    "# Add labels and title\n",
    "plt.xlabel('Games')\n",
    "plt.ylabel('Rating')\n",
    "plt.title('Ratings of H. Kane')\n",
    "plt.legend()\n",
    "\n",
    "plt.savefig('testrating.png')\n",
    "# Display the plot\n",
    "plt.show()"
   ]
  },
  {
   "cell_type": "markdown",
   "metadata": {},
   "source": [
    "Mean of the players:\n",
    "\n",
    "Kane: 2020\n",
    "97.34081800268976\n",
    "91.21543835421704\n",
    "97.61143125581353\n",
    "102.74178019077303\n",
    "\n",
    "Amdouni: 2024\n",
    "75.347568390527\n",
    "73.92526397991699\n",
    "78.1567103539439\n",
    "82.29751354202332\n",
    "\n",
    "Weghorst: 2024\n",
    "54.821109995390984\n",
    "51.380067661840414\n",
    "50.55266859637615\n",
    "57.57547908520444\n",
    "\n",
    "Vargas: 2024\n",
    "63.548815445427934\n",
    "61.67530964712833\n",
    "62.71731072199411\n",
    "\n",
    "Hazard: 2020\n",
    "100.98769637311419\n",
    "105.6908681480319\n",
    "99.83843192604121\n",
    "\n",
    "Shaqiri: 2024\n",
    "50.88110682587556\n",
    "52.02118517923609\n",
    "47.64124566536354\n",
    "\n",
    "Cancelo: 2024\n",
    "81.99502079633629\n",
    "78.05983888365992\n",
    "73.21949271778263\n",
    "\n",
    "R. Rodriguez: 2024\n",
    "59.313803555850164\n",
    "59.19696525758228\n",
    "57.00343415726151\n",
    "\n",
    "T. Hernandez: 2024\n",
    "66.55272729014959\n",
    "63.940912003645394\n",
    "64.37152607814465\n",
    "\n",
    "Kjaer: 2024\n",
    "59.58026054281056\n",
    "54.173939108116706\n",
    "59.116465580601314\n",
    "\n",
    "Akanji: 2024\n",
    "62.46047343903909\n",
    "65.32449305540102\n",
    "62.03500276566442\n",
    "\n",
    "van Dijk: 2024\n",
    "65.83591516747092\n",
    "65.04448703935815\n",
    "67.66942120704144\n",
    "\n",
    "KDB: 2020\n",
    "100.03887423620988\n",
    "81.22339862308469\n",
    "88.14725158573619\n",
    "84.29957025436019\n",
    "\n",
    "Xhaka: 2024\n",
    "71.33708263285979\n",
    "80.06782782501605\n",
    "81.0838199590465\n",
    "79.45150212051638\n",
    "\n",
    "Palhinha: 2024\n",
    "35.50018095272874\n",
    "48.87982544809992\n",
    "56.38107481409151\n",
    "61.14523038979936\n"
   ]
  },
  {
   "cell_type": "markdown",
   "metadata": {},
   "source": [
    "Fullback:\n",
    "47.0002613949184\n",
    "47.03648117129725\n",
    "49.296588398676505\n",
    "\n",
    "Striker:\n",
    "45.39109071225893\n",
    "37.78920794245907\n",
    "35.31285226725771\n",
    "46.088355080899454\n",
    "\n",
    "Winger:\n",
    "31.562222560092252\n",
    "34.07207700905238\n",
    "31.19075417435473\n",
    "\n",
    "CB:\n",
    "50.07056540209073\n",
    "51.283789227858776\n",
    "50.59904178197779\n",
    "\n",
    "Midfield: \n",
    "35.924372505067026\n",
    "43.0052414146306\n",
    "42.37123609048897\n",
    "45.450233479160254"
   ]
  }
 ],
 "metadata": {
  "kernelspec": {
   "display_name": "Python 3",
   "language": "python",
   "name": "python3"
  },
  "language_info": {
   "codemirror_mode": {
    "name": "ipython",
    "version": 3
   },
   "file_extension": ".py",
   "mimetype": "text/x-python",
   "name": "python",
   "nbconvert_exporter": "python",
   "pygments_lexer": "ipython3",
   "version": "3.10.4"
  }
 },
 "nbformat": 4,
 "nbformat_minor": 2
}
